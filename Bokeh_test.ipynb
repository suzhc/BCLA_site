{
 "cells": [
  {
   "cell_type": "code",
   "execution_count": 17,
   "metadata": {
    "collapsed": true
   },
   "outputs": [],
   "source": [
    "import pandas as pd\n",
    "import networkx\n",
    "import matplotlib.pyplot as plt\n",
    "import numpy as np"
   ]
  },
  {
   "cell_type": "code",
   "execution_count": 18,
   "outputs": [],
   "source": [
    "from bokeh.io import output_notebook, show, save"
   ],
   "metadata": {
    "collapsed": false,
    "pycharm": {
     "name": "#%%\n"
    }
   }
  },
  {
   "cell_type": "code",
   "execution_count": 19,
   "outputs": [
    {
     "data": {
      "text/html": "\n    <div class=\"bk-root\">\n        <a href=\"https://bokeh.org\" target=\"_blank\" class=\"bk-logo bk-logo-small bk-logo-notebook\"></a>\n        <span id=\"1401\">Loading BokehJS ...</span>\n    </div>"
     },
     "metadata": {},
     "output_type": "display_data"
    },
    {
     "data": {
      "application/javascript": "\n(function(root) {\n  function now() {\n    return new Date();\n  }\n\n  const force = true;\n\n  if (typeof root._bokeh_onload_callbacks === \"undefined\" || force === true) {\n    root._bokeh_onload_callbacks = [];\n    root._bokeh_is_loading = undefined;\n  }\n\n  const JS_MIME_TYPE = 'application/javascript';\n  const HTML_MIME_TYPE = 'text/html';\n  const EXEC_MIME_TYPE = 'application/vnd.bokehjs_exec.v0+json';\n  const CLASS_NAME = 'output_bokeh rendered_html';\n\n  /**\n   * Render data to the DOM node\n   */\n  function render(props, node) {\n    const script = document.createElement(\"script\");\n    node.appendChild(script);\n  }\n\n  /**\n   * Handle when an output is cleared or removed\n   */\n  function handleClearOutput(event, handle) {\n    const cell = handle.cell;\n\n    const id = cell.output_area._bokeh_element_id;\n    const server_id = cell.output_area._bokeh_server_id;\n    // Clean up Bokeh references\n    if (id != null && id in Bokeh.index) {\n      Bokeh.index[id].model.document.clear();\n      delete Bokeh.index[id];\n    }\n\n    if (server_id !== undefined) {\n      // Clean up Bokeh references\n      const cmd_clean = \"from bokeh.io.state import curstate; print(curstate().uuid_to_server['\" + server_id + \"'].get_sessions()[0].document.roots[0]._id)\";\n      cell.notebook.kernel.execute(cmd_clean, {\n        iopub: {\n          output: function(msg) {\n            const id = msg.content.text.trim();\n            if (id in Bokeh.index) {\n              Bokeh.index[id].model.document.clear();\n              delete Bokeh.index[id];\n            }\n          }\n        }\n      });\n      // Destroy server and session\n      const cmd_destroy = \"import bokeh.io.notebook as ion; ion.destroy_server('\" + server_id + \"')\";\n      cell.notebook.kernel.execute(cmd_destroy);\n    }\n  }\n\n  /**\n   * Handle when a new output is added\n   */\n  function handleAddOutput(event, handle) {\n    const output_area = handle.output_area;\n    const output = handle.output;\n\n    // limit handleAddOutput to display_data with EXEC_MIME_TYPE content only\n    if ((output.output_type != \"display_data\") || (!Object.prototype.hasOwnProperty.call(output.data, EXEC_MIME_TYPE))) {\n      return\n    }\n\n    const toinsert = output_area.element.find(\".\" + CLASS_NAME.split(' ')[0]);\n\n    if (output.metadata[EXEC_MIME_TYPE][\"id\"] !== undefined) {\n      toinsert[toinsert.length - 1].firstChild.textContent = output.data[JS_MIME_TYPE];\n      // store reference to embed id on output_area\n      output_area._bokeh_element_id = output.metadata[EXEC_MIME_TYPE][\"id\"];\n    }\n    if (output.metadata[EXEC_MIME_TYPE][\"server_id\"] !== undefined) {\n      const bk_div = document.createElement(\"div\");\n      bk_div.innerHTML = output.data[HTML_MIME_TYPE];\n      const script_attrs = bk_div.children[0].attributes;\n      for (let i = 0; i < script_attrs.length; i++) {\n        toinsert[toinsert.length - 1].firstChild.setAttribute(script_attrs[i].name, script_attrs[i].value);\n        toinsert[toinsert.length - 1].firstChild.textContent = bk_div.children[0].textContent\n      }\n      // store reference to server id on output_area\n      output_area._bokeh_server_id = output.metadata[EXEC_MIME_TYPE][\"server_id\"];\n    }\n  }\n\n  function register_renderer(events, OutputArea) {\n\n    function append_mime(data, metadata, element) {\n      // create a DOM node to render to\n      const toinsert = this.create_output_subarea(\n        metadata,\n        CLASS_NAME,\n        EXEC_MIME_TYPE\n      );\n      this.keyboard_manager.register_events(toinsert);\n      // Render to node\n      const props = {data: data, metadata: metadata[EXEC_MIME_TYPE]};\n      render(props, toinsert[toinsert.length - 1]);\n      element.append(toinsert);\n      return toinsert\n    }\n\n    /* Handle when an output is cleared or removed */\n    events.on('clear_output.CodeCell', handleClearOutput);\n    events.on('delete.Cell', handleClearOutput);\n\n    /* Handle when a new output is added */\n    events.on('output_added.OutputArea', handleAddOutput);\n\n    /**\n     * Register the mime type and append_mime function with output_area\n     */\n    OutputArea.prototype.register_mime_type(EXEC_MIME_TYPE, append_mime, {\n      /* Is output safe? */\n      safe: true,\n      /* Index of renderer in `output_area.display_order` */\n      index: 0\n    });\n  }\n\n  // register the mime type if in Jupyter Notebook environment and previously unregistered\n  if (root.Jupyter !== undefined) {\n    const events = require('base/js/events');\n    const OutputArea = require('notebook/js/outputarea').OutputArea;\n\n    if (OutputArea.prototype.mime_types().indexOf(EXEC_MIME_TYPE) == -1) {\n      register_renderer(events, OutputArea);\n    }\n  }\n\n  \n  if (typeof (root._bokeh_timeout) === \"undefined\" || force === true) {\n    root._bokeh_timeout = Date.now() + 5000;\n    root._bokeh_failed_load = false;\n  }\n\n  const NB_LOAD_WARNING = {'data': {'text/html':\n     \"<div style='background-color: #fdd'>\\n\"+\n     \"<p>\\n\"+\n     \"BokehJS does not appear to have successfully loaded. If loading BokehJS from CDN, this \\n\"+\n     \"may be due to a slow or bad network connection. Possible fixes:\\n\"+\n     \"</p>\\n\"+\n     \"<ul>\\n\"+\n     \"<li>re-rerun `output_notebook()` to attempt to load from CDN again, or</li>\\n\"+\n     \"<li>use INLINE resources instead, as so:</li>\\n\"+\n     \"</ul>\\n\"+\n     \"<code>\\n\"+\n     \"from bokeh.resources import INLINE\\n\"+\n     \"output_notebook(resources=INLINE)\\n\"+\n     \"</code>\\n\"+\n     \"</div>\"}};\n\n  function display_loaded() {\n    const el = document.getElementById(\"1401\");\n    if (el != null) {\n      el.textContent = \"BokehJS is loading...\";\n    }\n    if (root.Bokeh !== undefined) {\n      if (el != null) {\n        el.textContent = \"BokehJS \" + root.Bokeh.version + \" successfully loaded.\";\n      }\n    } else if (Date.now() < root._bokeh_timeout) {\n      setTimeout(display_loaded, 100)\n    }\n  }\n\n\n  function run_callbacks() {\n    try {\n      root._bokeh_onload_callbacks.forEach(function(callback) {\n        if (callback != null)\n          callback();\n      });\n    } finally {\n      delete root._bokeh_onload_callbacks\n    }\n    console.debug(\"Bokeh: all callbacks have finished\");\n  }\n\n  function load_libs(css_urls, js_urls, callback) {\n    if (css_urls == null) css_urls = [];\n    if (js_urls == null) js_urls = [];\n\n    root._bokeh_onload_callbacks.push(callback);\n    if (root._bokeh_is_loading > 0) {\n      console.debug(\"Bokeh: BokehJS is being loaded, scheduling callback at\", now());\n      return null;\n    }\n    if (js_urls == null || js_urls.length === 0) {\n      run_callbacks();\n      return null;\n    }\n    console.debug(\"Bokeh: BokehJS not loaded, scheduling load and callback at\", now());\n    root._bokeh_is_loading = css_urls.length + js_urls.length;\n\n    function on_load() {\n      root._bokeh_is_loading--;\n      if (root._bokeh_is_loading === 0) {\n        console.debug(\"Bokeh: all BokehJS libraries/stylesheets loaded\");\n        run_callbacks()\n      }\n    }\n\n    function on_error(url) {\n      console.error(\"failed to load \" + url);\n    }\n\n    for (let i = 0; i < css_urls.length; i++) {\n      const url = css_urls[i];\n      const element = document.createElement(\"link\");\n      element.onload = on_load;\n      element.onerror = on_error.bind(null, url);\n      element.rel = \"stylesheet\";\n      element.type = \"text/css\";\n      element.href = url;\n      console.debug(\"Bokeh: injecting link tag for BokehJS stylesheet: \", url);\n      document.body.appendChild(element);\n    }\n\n    for (let i = 0; i < js_urls.length; i++) {\n      const url = js_urls[i];\n      const element = document.createElement('script');\n      element.onload = on_load;\n      element.onerror = on_error.bind(null, url);\n      element.async = false;\n      element.src = url;\n      console.debug(\"Bokeh: injecting script tag for BokehJS library: \", url);\n      document.head.appendChild(element);\n    }\n  };\n\n  function inject_raw_css(css) {\n    const element = document.createElement(\"style\");\n    element.appendChild(document.createTextNode(css));\n    document.body.appendChild(element);\n  }\n\n  \n  const js_urls = [\"https://cdn.bokeh.org/bokeh/release/bokeh-2.4.2.min.js\", \"https://cdn.bokeh.org/bokeh/release/bokeh-gl-2.4.2.min.js\", \"https://cdn.bokeh.org/bokeh/release/bokeh-widgets-2.4.2.min.js\", \"https://cdn.bokeh.org/bokeh/release/bokeh-tables-2.4.2.min.js\", \"https://cdn.bokeh.org/bokeh/release/bokeh-mathjax-2.4.2.min.js\"];\n  const css_urls = [];\n  \n\n  const inline_js = [\n    function(Bokeh) {\n      Bokeh.set_log_level(\"info\");\n    },\n    function(Bokeh) {\n    \n    \n    }\n  ];\n\n  function run_inline_js() {\n    \n    if (root.Bokeh !== undefined || force === true) {\n      \n    for (let i = 0; i < inline_js.length; i++) {\n      inline_js[i].call(root, root.Bokeh);\n    }\n    if (force === true) {\n        display_loaded();\n      }} else if (Date.now() < root._bokeh_timeout) {\n      setTimeout(run_inline_js, 100);\n    } else if (!root._bokeh_failed_load) {\n      console.log(\"Bokeh: BokehJS failed to load within specified timeout.\");\n      root._bokeh_failed_load = true;\n    } else if (force !== true) {\n      const cell = $(document.getElementById(\"1401\")).parents('.cell').data().cell;\n      cell.output_area.append_execute_result(NB_LOAD_WARNING)\n    }\n\n  }\n\n  if (root._bokeh_is_loading === 0) {\n    console.debug(\"Bokeh: BokehJS loaded, going straight to plotting\");\n    run_inline_js();\n  } else {\n    load_libs(css_urls, js_urls, function() {\n      console.debug(\"Bokeh: BokehJS plotting callback run at\", now());\n      run_inline_js();\n    });\n  }\n}(window));",
      "application/vnd.bokehjs_load.v0+json": "\n(function(root) {\n  function now() {\n    return new Date();\n  }\n\n  const force = true;\n\n  if (typeof root._bokeh_onload_callbacks === \"undefined\" || force === true) {\n    root._bokeh_onload_callbacks = [];\n    root._bokeh_is_loading = undefined;\n  }\n\n  \n\n  \n  if (typeof (root._bokeh_timeout) === \"undefined\" || force === true) {\n    root._bokeh_timeout = Date.now() + 5000;\n    root._bokeh_failed_load = false;\n  }\n\n  const NB_LOAD_WARNING = {'data': {'text/html':\n     \"<div style='background-color: #fdd'>\\n\"+\n     \"<p>\\n\"+\n     \"BokehJS does not appear to have successfully loaded. If loading BokehJS from CDN, this \\n\"+\n     \"may be due to a slow or bad network connection. Possible fixes:\\n\"+\n     \"</p>\\n\"+\n     \"<ul>\\n\"+\n     \"<li>re-rerun `output_notebook()` to attempt to load from CDN again, or</li>\\n\"+\n     \"<li>use INLINE resources instead, as so:</li>\\n\"+\n     \"</ul>\\n\"+\n     \"<code>\\n\"+\n     \"from bokeh.resources import INLINE\\n\"+\n     \"output_notebook(resources=INLINE)\\n\"+\n     \"</code>\\n\"+\n     \"</div>\"}};\n\n  function display_loaded() {\n    const el = document.getElementById(\"1401\");\n    if (el != null) {\n      el.textContent = \"BokehJS is loading...\";\n    }\n    if (root.Bokeh !== undefined) {\n      if (el != null) {\n        el.textContent = \"BokehJS \" + root.Bokeh.version + \" successfully loaded.\";\n      }\n    } else if (Date.now() < root._bokeh_timeout) {\n      setTimeout(display_loaded, 100)\n    }\n  }\n\n\n  function run_callbacks() {\n    try {\n      root._bokeh_onload_callbacks.forEach(function(callback) {\n        if (callback != null)\n          callback();\n      });\n    } finally {\n      delete root._bokeh_onload_callbacks\n    }\n    console.debug(\"Bokeh: all callbacks have finished\");\n  }\n\n  function load_libs(css_urls, js_urls, callback) {\n    if (css_urls == null) css_urls = [];\n    if (js_urls == null) js_urls = [];\n\n    root._bokeh_onload_callbacks.push(callback);\n    if (root._bokeh_is_loading > 0) {\n      console.debug(\"Bokeh: BokehJS is being loaded, scheduling callback at\", now());\n      return null;\n    }\n    if (js_urls == null || js_urls.length === 0) {\n      run_callbacks();\n      return null;\n    }\n    console.debug(\"Bokeh: BokehJS not loaded, scheduling load and callback at\", now());\n    root._bokeh_is_loading = css_urls.length + js_urls.length;\n\n    function on_load() {\n      root._bokeh_is_loading--;\n      if (root._bokeh_is_loading === 0) {\n        console.debug(\"Bokeh: all BokehJS libraries/stylesheets loaded\");\n        run_callbacks()\n      }\n    }\n\n    function on_error(url) {\n      console.error(\"failed to load \" + url);\n    }\n\n    for (let i = 0; i < css_urls.length; i++) {\n      const url = css_urls[i];\n      const element = document.createElement(\"link\");\n      element.onload = on_load;\n      element.onerror = on_error.bind(null, url);\n      element.rel = \"stylesheet\";\n      element.type = \"text/css\";\n      element.href = url;\n      console.debug(\"Bokeh: injecting link tag for BokehJS stylesheet: \", url);\n      document.body.appendChild(element);\n    }\n\n    for (let i = 0; i < js_urls.length; i++) {\n      const url = js_urls[i];\n      const element = document.createElement('script');\n      element.onload = on_load;\n      element.onerror = on_error.bind(null, url);\n      element.async = false;\n      element.src = url;\n      console.debug(\"Bokeh: injecting script tag for BokehJS library: \", url);\n      document.head.appendChild(element);\n    }\n  };\n\n  function inject_raw_css(css) {\n    const element = document.createElement(\"style\");\n    element.appendChild(document.createTextNode(css));\n    document.body.appendChild(element);\n  }\n\n  \n  const js_urls = [\"https://cdn.bokeh.org/bokeh/release/bokeh-2.4.2.min.js\", \"https://cdn.bokeh.org/bokeh/release/bokeh-gl-2.4.2.min.js\", \"https://cdn.bokeh.org/bokeh/release/bokeh-widgets-2.4.2.min.js\", \"https://cdn.bokeh.org/bokeh/release/bokeh-tables-2.4.2.min.js\", \"https://cdn.bokeh.org/bokeh/release/bokeh-mathjax-2.4.2.min.js\"];\n  const css_urls = [];\n  \n\n  const inline_js = [\n    function(Bokeh) {\n      Bokeh.set_log_level(\"info\");\n    },\n    function(Bokeh) {\n    \n    \n    }\n  ];\n\n  function run_inline_js() {\n    \n    if (root.Bokeh !== undefined || force === true) {\n      \n    for (let i = 0; i < inline_js.length; i++) {\n      inline_js[i].call(root, root.Bokeh);\n    }\n    if (force === true) {\n        display_loaded();\n      }} else if (Date.now() < root._bokeh_timeout) {\n      setTimeout(run_inline_js, 100);\n    } else if (!root._bokeh_failed_load) {\n      console.log(\"Bokeh: BokehJS failed to load within specified timeout.\");\n      root._bokeh_failed_load = true;\n    } else if (force !== true) {\n      const cell = $(document.getElementById(\"1401\")).parents('.cell').data().cell;\n      cell.output_area.append_execute_result(NB_LOAD_WARNING)\n    }\n\n  }\n\n  if (root._bokeh_is_loading === 0) {\n    console.debug(\"Bokeh: BokehJS loaded, going straight to plotting\");\n    run_inline_js();\n  } else {\n    load_libs(css_urls, js_urls, function() {\n      console.debug(\"Bokeh: BokehJS plotting callback run at\", now());\n      run_inline_js();\n    });\n  }\n}(window));"
     },
     "metadata": {},
     "output_type": "display_data"
    }
   ],
   "source": [
    "output_notebook()"
   ],
   "metadata": {
    "collapsed": false,
    "pycharm": {
     "name": "#%%\n"
    }
   }
  },
  {
   "cell_type": "code",
   "execution_count": 20,
   "outputs": [],
   "source": [
    "got_df = pd.read_csv('got-edges.csv')"
   ],
   "metadata": {
    "collapsed": false,
    "pycharm": {
     "name": "#%%\n"
    }
   }
  },
  {
   "cell_type": "code",
   "execution_count": 21,
   "outputs": [
    {
     "data": {
      "text/plain": "      Source       Target  Weight\n0      Aemon        Grenn       5\n1      Aemon      Samwell      31\n2      Aerys        Jaime      18\n3      Aerys       Robert       6\n4      Aerys       Tyrion       5\n..       ...          ...     ...\n347   Walder        Petyr       6\n348   Walder       Roslin       6\n349   Walton        Jaime      10\n350  Ygritte       Qhorin       7\n351  Ygritte  Rattleshirt       9\n\n[352 rows x 3 columns]",
      "text/html": "<div>\n<style scoped>\n    .dataframe tbody tr th:only-of-type {\n        vertical-align: middle;\n    }\n\n    .dataframe tbody tr th {\n        vertical-align: top;\n    }\n\n    .dataframe thead th {\n        text-align: right;\n    }\n</style>\n<table border=\"1\" class=\"dataframe\">\n  <thead>\n    <tr style=\"text-align: right;\">\n      <th></th>\n      <th>Source</th>\n      <th>Target</th>\n      <th>Weight</th>\n    </tr>\n  </thead>\n  <tbody>\n    <tr>\n      <th>0</th>\n      <td>Aemon</td>\n      <td>Grenn</td>\n      <td>5</td>\n    </tr>\n    <tr>\n      <th>1</th>\n      <td>Aemon</td>\n      <td>Samwell</td>\n      <td>31</td>\n    </tr>\n    <tr>\n      <th>2</th>\n      <td>Aerys</td>\n      <td>Jaime</td>\n      <td>18</td>\n    </tr>\n    <tr>\n      <th>3</th>\n      <td>Aerys</td>\n      <td>Robert</td>\n      <td>6</td>\n    </tr>\n    <tr>\n      <th>4</th>\n      <td>Aerys</td>\n      <td>Tyrion</td>\n      <td>5</td>\n    </tr>\n    <tr>\n      <th>...</th>\n      <td>...</td>\n      <td>...</td>\n      <td>...</td>\n    </tr>\n    <tr>\n      <th>347</th>\n      <td>Walder</td>\n      <td>Petyr</td>\n      <td>6</td>\n    </tr>\n    <tr>\n      <th>348</th>\n      <td>Walder</td>\n      <td>Roslin</td>\n      <td>6</td>\n    </tr>\n    <tr>\n      <th>349</th>\n      <td>Walton</td>\n      <td>Jaime</td>\n      <td>10</td>\n    </tr>\n    <tr>\n      <th>350</th>\n      <td>Ygritte</td>\n      <td>Qhorin</td>\n      <td>7</td>\n    </tr>\n    <tr>\n      <th>351</th>\n      <td>Ygritte</td>\n      <td>Rattleshirt</td>\n      <td>9</td>\n    </tr>\n  </tbody>\n</table>\n<p>352 rows × 3 columns</p>\n</div>"
     },
     "execution_count": 21,
     "metadata": {},
     "output_type": "execute_result"
    }
   ],
   "source": [
    "got_df"
   ],
   "metadata": {
    "collapsed": false,
    "pycharm": {
     "name": "#%%\n"
    }
   }
  },
  {
   "cell_type": "code",
   "execution_count": 22,
   "outputs": [],
   "source": [
    "G = networkx.from_pandas_edgelist(got_df, 'Source', 'Target', 'Weight')"
   ],
   "metadata": {
    "collapsed": false,
    "pycharm": {
     "name": "#%%\n"
    }
   }
  },
  {
   "cell_type": "code",
   "execution_count": 23,
   "outputs": [],
   "source": [
    "from bokeh.io import output_notebook, show, save\n",
    "from bokeh.models import Range1d, Circle, ColumnDataSource, MultiLine\n",
    "from bokeh.plotting import figure\n",
    "from bokeh.plotting import from_networkx"
   ],
   "metadata": {
    "collapsed": false,
    "pycharm": {
     "name": "#%%\n"
    }
   }
  },
  {
   "cell_type": "code",
   "execution_count": 24,
   "outputs": [
    {
     "data": {
      "text/html": "\n\n\n\n\n\n  <div class=\"bk-root\" id=\"c6757db4-968a-401e-bb9a-712952c5d928\" data-root-id=\"1404\"></div>\n"
     },
     "metadata": {},
     "output_type": "display_data"
    },
    {
     "data": {
      "application/javascript": "(function(root) {\n  function embed_document(root) {\n    \n  const docs_json = {\"fd453eea-0527-478b-9603-ccf0a21d03a2\":{\"defs\":[],\"roots\":{\"references\":[{\"attributes\":{\"below\":[{\"id\":\"1413\"}],\"center\":[{\"id\":\"1416\"},{\"id\":\"1420\"}],\"left\":[{\"id\":\"1417\"}],\"renderers\":[{\"id\":\"1432\"}],\"title\":{\"id\":\"1405\"},\"toolbar\":{\"id\":\"1426\"},\"x_range\":{\"id\":\"1402\"},\"x_scale\":{\"id\":\"1409\"},\"y_range\":{\"id\":\"1403\"},\"y_scale\":{\"id\":\"1411\"}},\"id\":\"1404\",\"subtype\":\"Figure\",\"type\":\"Plot\"},{\"attributes\":{\"coordinates\":null,\"edge_renderer\":{\"id\":\"1439\"},\"group\":null,\"inspection_policy\":{\"id\":\"1504\"},\"layout_provider\":{\"id\":\"1441\"},\"node_renderer\":{\"id\":\"1435\"},\"selection_policy\":{\"id\":\"1503\"}},\"id\":\"1432\",\"type\":\"GraphRenderer\"},{\"attributes\":{},\"id\":\"1506\",\"type\":\"BasicTickFormatter\"},{\"attributes\":{},\"id\":\"1507\",\"type\":\"AllLabels\"},{\"attributes\":{},\"id\":\"1411\",\"type\":\"LinearScale\"},{\"attributes\":{\"end\":10.1,\"start\":-10.1},\"id\":\"1402\",\"type\":\"Range1d\"},{\"attributes\":{\"graph_layout\":{\"Aegon\":[8.97605602223312,-1.7165610527569641],\"Aemon\":[-1.7371550588508262,-1.8533574567032354],\"Aerys\":[2.037036714883685,1.1389124797903525],\"Alliser\":[-4.478949510696933,-2.3996405544717003],\"Amory\":[0.3709674305768644,6.454105085890959],\"Anguy\":[0.6580340557863041,-3.5026545337878012],\"Arya\":[-0.1342629424322314,-0.7963048405273019],\"Balon\":[-0.7111421081533211,1.3272113132339043],\"Barristan\":[4.7284555022576535,-0.31535819289727246],\"Belwas\":[7.619307703097721,-1.1808082365654526],\"Beric\":[0.5567914138819867,-2.3955223346184664],\"Bowen\":[-4.355312956358501,-3.293818185992593],\"Bran\":[-1.5300658818305681,-2.2987277955641314],\"Brienne\":[-0.555689436139989,0.12737322277237045],\"Bronn\":[1.206572808515965,2.935986333976587],\"Brynden\":[-1.963643616354789,1.2718467562344271],\"Catelyn\":[-1.08300525921431,0.7316088075063543],\"Cersei\":[0.7558219078645471,0.8254600286245497],\"Chataya\":[-0.4019013937501436,4.072825164456477],\"Craster\":[-6.044686245120968,-2.750726516429577],\"Cressen\":[-8.67778774475304,2.5333556932962495],\"Daario\":[8.579998230777653,0.34345085531886393],\"Daenerys\":[6.97752562487566,-0.19760717600118682],\"Dalla\":[-5.1261225281149905,-1.285963140137849],\"Davos\":[-6.315385448441114,1.5334823511926663],\"Doran\":[0.19677635660634976,4.721232481238783],\"Drogo\":[8.548488897202343,-0.22977800328570355],\"Eddard\":[-0.48946245929268556,-0.8612732879501268],\"Eddison\":[-4.051209995535552,-4.075252298759012],\"Edmure\":[-1.5571270981994247,2.059086273171699],\"Elia\":[2.7518470004347333,1.0129146851685669],\"Ellaria\":[1.1083084872374644,4.5086503611639515],\"Gendry\":[1.198451388789041,-2.6787445277978685],\"Gilly\":[-5.432331423261602,-2.357270618850803],\"Gregor\":[1.2775180674078963,1.2428170221726487],\"Grenn\":[-3.364669349966615,-3.461886429584704],\"Hodor\":[-2.168681360439009,-2.705536472954197],\"Hoster\":[-0.8299513134629116,2.2625437148782988],\"Illyrio\":[10.0,-2.309387632803861],\"Ilyn\":[1.726117466992588,0.22938711523344935],\"Irri\":[9.235723898482622,-0.2872481927979808],\"Jaime\":[0.9858720074901308,0.9317792495198666],\"Janos\":[-3.009027241508905,-1.2484287631070203],\"Jeyne\":[-3.1238417250818036,1.1927724398879351],\"Joffrey\":[0.49226168877052684,1.095816739705915],\"Jojen\":[-2.6118967261013326,-4.02335885481673],\"Jon\":[-3.0756683418388095,-1.9785395560702974],\"Jon Arryn\":[3.1000606667358723,-1.096570437800425],\"Jorah\":[7.0131644490325264,0.07168566635359183],\"Karl\":[-8.567170110249908,-3.7286077616179947],\"Kevan\":[1.5335201156413472,2.7751739400367366],\"Kraznys\":[9.615447840902354,0.5731832607410761],\"Lancel\":[3.1635785590302596,5.255671749017882],\"Loras\":[0.5862362031300508,0.18463769190517398],\"Lothar\":[-2.808504735902684,2.294632483422462],\"Luwin\":[-1.671536161691305,-5.232756266832855],\"Lysa\":[0.9737789394836142,0.21821852656446838],\"Mace\":[0.6706690308015346,3.774314340046654],\"Mance\":[-4.8666265619690146,-2.2816771776227136],\"Margaery\":[1.0374635521494247,1.6826166575124355],\"Marillion\":[2.358293095407641,-0.8746355962565239],\"Meera\":[-2.7708228890970767,-3.532152323154379],\"Melisandre\":[-4.535904206199893,-0.36300186806490425],\"Meryn\":[1.9133375756482698,0.6147167808816179],\"Missandei\":[9.390380205412416,-0.9713025700995344],\"Myrcella\":[1.9247763675679594,1.6350520289265553],\"Nan\":[-1.0972879516204581,-5.135484366019524],\"Oberyn\":[0.49339175201457147,3.48635566418053],\"Olenna\":[1.4991231498825028,-1.514169612229813],\"Orell\":[-4.3344396336321935,-4.860775316262919],\"Petyr\":[-0.7094559608205026,1.0158191470046227],\"Podrick\":[0.37281989234061436,2.4714388278383606],\"Pycelle\":[1.8236628367765355,2.455254293390681],\"Qhorin\":[-4.957520603414088,-3.294877037167685],\"Qyburn\":[3.496694605222006,2.6942219158969007],\"Rakharo\":[9.157220146610747,1.2073750547289588],\"Ramsay\":[-4.317074137172919,1.466065306489703],\"Rattleshirt\":[-5.484126124541617,-3.512320996313907],\"Renly\":[0.14434704342390153,0.8038818120796101],\"Rhaegar\":[4.7917761924537405,0.1448554559628734],\"Rickard\":[-3.5270095753189254,1.883204084350987],\"Rickon\":[-1.0810382874527256,-1.3258913864665722],\"Robb\":[-1.587180725556521,0.26718350438425065],\"Robert\":[1.468463655376012,-0.416867810975001],\"Robert Arryn\":[2.126766415514123,-1.360769322987523],\"Roose\":[-1.9486719162192518,-0.2432724363687185],\"Roslin\":[-2.5507723943339236,2.9385576051993327],\"Salladhor\":[-8.345633343283108,3.1394738117316545],\"Samwell\":[-3.6911343473450815,-2.357798472173963],\"Sandor\":[0.9652783425525518,-0.6417157252841963],\"Sansa\":[0.1561090811294929,0.07881350581833528],\"Shae\":[-0.05300545673925816,2.536917196275007],\"Shireen\":[-8.856630326256353,1.878132943586552],\"Stannis\":[-1.87548052307605,0.17677881994890146],\"Styr\":[-5.730889876413324,-3.0318095545305876],\"Theon\":[-2.3361716267632664,-1.5727395137607945],\"Thoros\":[1.3566341645621676,-2.130330404230601],\"Tommen\":[1.5358430304203685,2.199730530314354],\"Tyrion\":[0.5301466376427113,1.5058789709863873],\"Tywin\":[-0.08190504216874657,1.5094406721119191],\"Val\":[-3.4348847532895213,-0.4572075698073598],\"Varys\":[0.8359949246972305,2.4429907389575023],\"Viserys\":[4.411069571884234,0.9526787731426367],\"Walder\":[-1.975324257583524,1.972923360758958],\"Walton\":[2.8927453741276112,3.439196184453995],\"Worm\":[9.856095089942366,-0.28914317096069064],\"Ygritte\":[-5.15764248867008,-3.8700581272155086]}},\"id\":\"1441\",\"type\":\"StaticLayoutProvider\"},{\"attributes\":{},\"id\":\"1409\",\"type\":\"LinearScale\"},{\"attributes\":{\"data\":{\"index\":[\"Aemon\",\"Grenn\",\"Samwell\",\"Aerys\",\"Jaime\",\"Robert\",\"Tyrion\",\"Tywin\",\"Alliser\",\"Mance\",\"Amory\",\"Oberyn\",\"Arya\",\"Anguy\",\"Beric\",\"Bran\",\"Brynden\",\"Cersei\",\"Gendry\",\"Gregor\",\"Joffrey\",\"Jon\",\"Rickon\",\"Roose\",\"Sandor\",\"Thoros\",\"Balon\",\"Loras\",\"Belwas\",\"Barristan\",\"Illyrio\",\"Hodor\",\"Jojen\",\"Luwin\",\"Meera\",\"Nan\",\"Theon\",\"Brienne\",\"Bronn\",\"Podrick\",\"Lothar\",\"Walder\",\"Catelyn\",\"Edmure\",\"Hoster\",\"Jeyne\",\"Lysa\",\"Petyr\",\"Robb\",\"Roslin\",\"Sansa\",\"Stannis\",\"Elia\",\"Ilyn\",\"Meryn\",\"Pycelle\",\"Shae\",\"Varys\",\"Craster\",\"Karl\",\"Daario\",\"Drogo\",\"Irri\",\"Daenerys\",\"Aegon\",\"Jorah\",\"Kraznys\",\"Missandei\",\"Rakharo\",\"Rhaegar\",\"Viserys\",\"Worm\",\"Davos\",\"Cressen\",\"Salladhor\",\"Eddard\",\"Eddison\",\"Gilly\",\"Qyburn\",\"Renly\",\"Tommen\",\"Janos\",\"Bowen\",\"Kevan\",\"Margaery\",\"Myrcella\",\"Dalla\",\"Melisandre\",\"Orell\",\"Qhorin\",\"Rattleshirt\",\"Styr\",\"Val\",\"Ygritte\",\"Jon Arryn\",\"Lancel\",\"Olenna\",\"Marillion\",\"Robert Arryn\",\"Ellaria\",\"Mace\",\"Rickard\",\"Ramsay\",\"Chataya\",\"Shireen\",\"Doran\",\"Walton\"]},\"selected\":{\"id\":\"1512\"},\"selection_policy\":{\"id\":\"1511\"}},\"id\":\"1434\",\"type\":\"ColumnDataSource\"},{\"attributes\":{\"active_scroll\":{\"id\":\"1422\"},\"tools\":[{\"id\":\"1421\"},{\"id\":\"1422\"},{\"id\":\"1423\"},{\"id\":\"1424\"},{\"id\":\"1425\"}]},\"id\":\"1426\",\"type\":\"Toolbar\"},{\"attributes\":{\"coordinates\":null,\"formatter\":{\"id\":\"1509\"},\"group\":null,\"major_label_policy\":{\"id\":\"1510\"},\"ticker\":{\"id\":\"1414\"}},\"id\":\"1413\",\"type\":\"LinearAxis\"},{\"attributes\":{\"coordinates\":null,\"data_source\":{\"id\":\"1434\"},\"glyph\":{\"id\":\"1442\"},\"group\":null,\"hover_glyph\":null,\"view\":{\"id\":\"1436\"}},\"id\":\"1435\",\"type\":\"GlyphRenderer\"},{\"attributes\":{\"data\":{\"Weight\":[5,31,30,4,4,8,25,43,11,11,52,7,5,6,34,12,36,6,10,5,13,18,6,5,8,11,19,36,6,6,4,88,5,4,6,15,16,11,11,7,17,5,8,31,15,10,13,10,4,16,5,10,5,6,6,5,4,5,4,6,5,9,11,5,5,46,54,5,4,12,77,4,31,5,5,5,4,22,5,5,11,6,9,7,5,25,12,28,11,6,4,21,6,18,39,4,4,12,5,4,16,7,13,14,5,6,4,5,5,15,4,4,6,4,5,9,15,4,69,11,8,7,10,9,7,8,12,5,24,4,6,6,11,23,9,6,5,43,7,6,7,8,5,46,18,18,15,22,4,4,21,8,15,96,46,12,4,54,14,35,11,4,15,23,10,4,5,8,7,4,17,4,5,4,4,6,7,23,10,4,6,4,4,6,4,16,7,5,5,9,7,7,12,5,4,8,7,28,5,5,14,10,9,10,35,8,7,6,4,9,8,4,7,6,31,20,9,16,8,12,54,14,4,8,8,15,7,4,4,4,5,4,4,10,6,4,6,4,7,9,5,8,14,18,10,26,13,20,11,5,35,41,5,33,4,11,7,6,5,19,4,8,4,4,10,12,19,9,26,6,6,16,9,10,8,5,43,6,8,4,5,16,9,32,6,18,5,10,29,9,28,5,28,13,4,7,15,4,6,5,36,9,4,7,4,6,8,32,20,15,7,5,4,4,8,5,4,6,17,4,5,14,7,18,7,6,17,4,8,47,10,26,7,12,8,14,5,7,4,16,30,5,7,5,5,5,7,7,6,7,9,4],\"end\":[\"Grenn\",\"Samwell\",\"Jon\",\"Robert\",\"Stannis\",\"Eddison\",\"Jon\",\"Samwell\",\"Bran\",\"Jojen\",\"Jon\",\"Meera\",\"Melisandre\",\"Bowen\",\"Craster\",\"Eddison\",\"Gilly\",\"Janos\",\"Mance\",\"Qhorin\",\"Stannis\",\"Jaime\",\"Robert\",\"Tyrion\",\"Tywin\",\"Arya\",\"Catelyn\",\"Cersei\",\"Eddard\",\"Balon\",\"Barristan\",\"Brienne\",\"Edmure\",\"Elia\",\"Gregor\",\"Joffrey\",\"Loras\",\"Meryn\",\"Qyburn\",\"Renly\",\"Robert\",\"Stannis\",\"Tommen\",\"Tyrion\",\"Robb\",\"Sansa\",\"Tywin\",\"Walton\",\"Arya\",\"Cersei\",\"Daenerys\",\"Eddard\",\"Jon\",\"Jon Arryn\",\"Rhaegar\",\"Barristan\",\"Renly\",\"Stannis\",\"Thoros\",\"Sandor\",\"Sansa\",\"Tyrion\",\"Tywin\",\"Arya\",\"Catelyn\",\"Cersei\",\"Joffrey\",\"Lysa\",\"Myrcella\",\"Robb\",\"Sansa\",\"Balon\",\"Bronn\",\"Chataya\",\"Doran\",\"Elia\",\"Ellaria\",\"Gregor\",\"Ilyn\",\"Janos\",\"Kevan\",\"Loras\",\"Mace\",\"Margaery\",\"Meryn\",\"Oberyn\",\"Petyr\",\"Podrick\",\"Pycelle\",\"Renly\",\"Sandor\",\"Shae\",\"Stannis\",\"Varys\",\"Tywin\",\"Viserys\",\"Lysa\",\"Robb\",\"Balon\",\"Brynden\",\"Cersei\",\"Gregor\",\"Joffrey\",\"Kevan\",\"Mace\",\"Oberyn\",\"Petyr\",\"Podrick\",\"Pycelle\",\"Stannis\",\"Tommen\",\"Val\",\"Varys\",\"Walder\",\"Mance\",\"Janos\",\"Jon\",\"Janos\",\"Jon\",\"Craster\",\"Dalla\",\"Gilly\",\"Qhorin\",\"Rattleshirt\",\"Styr\",\"Val\",\"Ygritte\",\"Oberyn\",\"Gregor\",\"Joffrey\",\"Ellaria\",\"Mace\",\"Anguy\",\"Beric\",\"Bran\",\"Brynden\",\"Cersei\",\"Gendry\",\"Gregor\",\"Joffrey\",\"Jon\",\"Rickon\",\"Roose\",\"Sandor\",\"Thoros\",\"Eddard\",\"Robb\",\"Sansa\",\"Beric\",\"Gendry\",\"Thoros\",\"Eddard\",\"Sandor\",\"Hodor\",\"Jojen\",\"Jon\",\"Luwin\",\"Meera\",\"Nan\",\"Rickon\",\"Theon\",\"Catelyn\",\"Eddard\",\"Robb\",\"Sansa\",\"Lothar\",\"Walder\",\"Catelyn\",\"Edmure\",\"Rickard\",\"Robb\",\"Catelyn\",\"Brienne\",\"Bronn\",\"Elia\",\"Gregor\",\"Ilyn\",\"Joffrey\",\"Meryn\",\"Pycelle\",\"Sandor\",\"Shae\",\"Varys\",\"Eddard\",\"Lysa\",\"Sansa\",\"Thoros\",\"Sandor\",\"Bronn\",\"Elia\",\"Ilyn\",\"Meryn\",\"Sandor\",\"Joffrey\",\"Ilyn\",\"Kevan\",\"Loras\",\"Margaery\",\"Meryn\",\"Myrcella\",\"Sandor\",\"Stannis\",\"Tommen\",\"Robb\",\"Sansa\",\"Eddard\",\"Craster\",\"Dalla\",\"Eddison\",\"Gilly\",\"Janos\",\"Meera\",\"Melisandre\",\"Orell\",\"Qhorin\",\"Rattleshirt\",\"Stannis\",\"Styr\",\"Theon\",\"Val\",\"Ygritte\",\"Robb\",\"Sansa\",\"Eddard\",\"Theon\",\"Robb\",\"Sansa\",\"Catelyn\",\"Robb\",\"Brienne\",\"Eddard\",\"Ilyn\",\"Meryn\",\"Thoros\",\"Sansa\",\"Loras\",\"Robb\",\"Stannis\",\"Brienne\",\"Margaery\",\"Olenna\",\"Renly\",\"Sansa\",\"Barristan\",\"Illyrio\",\"Daenerys\",\"Jorah\",\"Daenerys\",\"Jorah\",\"Rhaegar\",\"Jojen\",\"Meera\",\"Robb\",\"Meera\",\"Nan\",\"Robb\",\"Catelyn\",\"Robb\",\"Sansa\",\"Podrick\",\"Margaery\",\"Sansa\",\"Edmure\",\"Roslin\",\"Robb\",\"Walder\",\"Catelyn\",\"Edmure\",\"Robb\",\"Petyr\",\"Roslin\",\"Edmure\",\"Hoster\",\"Jeyne\",\"Lysa\",\"Petyr\",\"Robb\",\"Roslin\",\"Sansa\",\"Stannis\",\"Eddard\",\"Roslin\",\"Hoster\",\"Robb\",\"Lysa\",\"Robb\",\"Jon Arryn\",\"Marillion\",\"Petyr\",\"Robert Arryn\",\"Sansa\",\"Robb\",\"Sansa\",\"Eddard\",\"Ramsay\",\"Rickard\",\"Sansa\",\"Stannis\",\"Eddard\",\"Kevan\",\"Margaery\",\"Marillion\",\"Myrcella\",\"Olenna\",\"Renly\",\"Robert Arryn\",\"Shae\",\"Davos\",\"Melisandre\",\"Renly\",\"Rhaegar\",\"Meryn\",\"Varys\",\"Chataya\",\"Varys\",\"Kevan\",\"Renly\",\"Karl\",\"Gilly\",\"Drogo\",\"Irri\",\"Daenerys\",\"Jorah\",\"Daenerys\",\"Irri\",\"Jorah\",\"Daenerys\",\"Missandei\",\"Aegon\",\"Jorah\",\"Kraznys\",\"Missandei\",\"Rakharo\",\"Rhaegar\",\"Viserys\",\"Worm\",\"Rhaegar\",\"Viserys\",\"Cressen\",\"Salladhor\",\"Melisandre\",\"Shireen\",\"Margaery\",\"Myrcella\",\"Margaery\",\"Bowen\",\"Lancel\",\"Val\",\"Rattleshirt\",\"Ygritte\",\"Ygritte\",\"Robert Arryn\"],\"start\":[\"Aemon\",\"Aemon\",\"Aemon\",\"Aemon\",\"Aemon\",\"Grenn\",\"Grenn\",\"Grenn\",\"Samwell\",\"Samwell\",\"Samwell\",\"Samwell\",\"Samwell\",\"Samwell\",\"Samwell\",\"Samwell\",\"Samwell\",\"Samwell\",\"Samwell\",\"Samwell\",\"Samwell\",\"Aerys\",\"Aerys\",\"Aerys\",\"Aerys\",\"Jaime\",\"Jaime\",\"Jaime\",\"Jaime\",\"Jaime\",\"Jaime\",\"Jaime\",\"Jaime\",\"Jaime\",\"Jaime\",\"Jaime\",\"Jaime\",\"Jaime\",\"Jaime\",\"Jaime\",\"Jaime\",\"Jaime\",\"Jaime\",\"Jaime\",\"Jaime\",\"Jaime\",\"Jaime\",\"Jaime\",\"Robert\",\"Robert\",\"Robert\",\"Robert\",\"Robert\",\"Robert\",\"Robert\",\"Robert\",\"Robert\",\"Robert\",\"Robert\",\"Robert\",\"Robert\",\"Robert\",\"Robert\",\"Tyrion\",\"Tyrion\",\"Tyrion\",\"Tyrion\",\"Tyrion\",\"Tyrion\",\"Tyrion\",\"Tyrion\",\"Tyrion\",\"Tyrion\",\"Tyrion\",\"Tyrion\",\"Tyrion\",\"Tyrion\",\"Tyrion\",\"Tyrion\",\"Tyrion\",\"Tyrion\",\"Tyrion\",\"Tyrion\",\"Tyrion\",\"Tyrion\",\"Tyrion\",\"Tyrion\",\"Tyrion\",\"Tyrion\",\"Tyrion\",\"Tyrion\",\"Tyrion\",\"Tyrion\",\"Tyrion\",\"Tyrion\",\"Tyrion\",\"Tywin\",\"Tywin\",\"Tywin\",\"Tywin\",\"Tywin\",\"Tywin\",\"Tywin\",\"Tywin\",\"Tywin\",\"Tywin\",\"Tywin\",\"Tywin\",\"Tywin\",\"Tywin\",\"Tywin\",\"Tywin\",\"Tywin\",\"Tywin\",\"Alliser\",\"Alliser\",\"Alliser\",\"Mance\",\"Mance\",\"Mance\",\"Mance\",\"Mance\",\"Mance\",\"Mance\",\"Mance\",\"Mance\",\"Mance\",\"Amory\",\"Oberyn\",\"Oberyn\",\"Oberyn\",\"Oberyn\",\"Arya\",\"Arya\",\"Arya\",\"Arya\",\"Arya\",\"Arya\",\"Arya\",\"Arya\",\"Arya\",\"Arya\",\"Arya\",\"Arya\",\"Arya\",\"Arya\",\"Arya\",\"Arya\",\"Anguy\",\"Beric\",\"Beric\",\"Beric\",\"Beric\",\"Bran\",\"Bran\",\"Bran\",\"Bran\",\"Bran\",\"Bran\",\"Bran\",\"Bran\",\"Bran\",\"Bran\",\"Bran\",\"Bran\",\"Brynden\",\"Brynden\",\"Brynden\",\"Brynden\",\"Brynden\",\"Brynden\",\"Cersei\",\"Cersei\",\"Cersei\",\"Cersei\",\"Cersei\",\"Cersei\",\"Cersei\",\"Cersei\",\"Cersei\",\"Cersei\",\"Cersei\",\"Cersei\",\"Cersei\",\"Cersei\",\"Cersei\",\"Gendry\",\"Gendry\",\"Gregor\",\"Gregor\",\"Gregor\",\"Gregor\",\"Gregor\",\"Gregor\",\"Joffrey\",\"Joffrey\",\"Joffrey\",\"Joffrey\",\"Joffrey\",\"Joffrey\",\"Joffrey\",\"Joffrey\",\"Joffrey\",\"Joffrey\",\"Joffrey\",\"Jon\",\"Jon\",\"Jon\",\"Jon\",\"Jon\",\"Jon\",\"Jon\",\"Jon\",\"Jon\",\"Jon\",\"Jon\",\"Jon\",\"Jon\",\"Jon\",\"Jon\",\"Jon\",\"Jon\",\"Jon\",\"Rickon\",\"Rickon\",\"Rickon\",\"Rickon\",\"Roose\",\"Roose\",\"Roose\",\"Sandor\",\"Sandor\",\"Sandor\",\"Sandor\",\"Sandor\",\"Balon\",\"Balon\",\"Balon\",\"Loras\",\"Loras\",\"Loras\",\"Loras\",\"Loras\",\"Belwas\",\"Belwas\",\"Belwas\",\"Belwas\",\"Barristan\",\"Barristan\",\"Barristan\",\"Hodor\",\"Hodor\",\"Hodor\",\"Jojen\",\"Luwin\",\"Theon\",\"Brienne\",\"Brienne\",\"Brienne\",\"Bronn\",\"Podrick\",\"Podrick\",\"Lothar\",\"Lothar\",\"Lothar\",\"Lothar\",\"Walder\",\"Walder\",\"Walder\",\"Walder\",\"Walder\",\"Catelyn\",\"Catelyn\",\"Catelyn\",\"Catelyn\",\"Catelyn\",\"Catelyn\",\"Catelyn\",\"Catelyn\",\"Catelyn\",\"Catelyn\",\"Edmure\",\"Edmure\",\"Edmure\",\"Hoster\",\"Jeyne\",\"Lysa\",\"Lysa\",\"Lysa\",\"Lysa\",\"Lysa\",\"Petyr\",\"Petyr\",\"Robb\",\"Robb\",\"Robb\",\"Robb\",\"Robb\",\"Sansa\",\"Sansa\",\"Sansa\",\"Sansa\",\"Sansa\",\"Sansa\",\"Sansa\",\"Sansa\",\"Sansa\",\"Stannis\",\"Stannis\",\"Stannis\",\"Elia\",\"Ilyn\",\"Pycelle\",\"Shae\",\"Shae\",\"Varys\",\"Varys\",\"Craster\",\"Craster\",\"Daario\",\"Daario\",\"Daario\",\"Daario\",\"Drogo\",\"Drogo\",\"Drogo\",\"Irri\",\"Irri\",\"Daenerys\",\"Daenerys\",\"Daenerys\",\"Daenerys\",\"Daenerys\",\"Daenerys\",\"Daenerys\",\"Daenerys\",\"Jorah\",\"Rhaegar\",\"Davos\",\"Davos\",\"Davos\",\"Davos\",\"Renly\",\"Tommen\",\"Tommen\",\"Janos\",\"Kevan\",\"Dalla\",\"Qhorin\",\"Qhorin\",\"Rattleshirt\",\"Marillion\"]},\"selected\":{\"id\":\"1514\"},\"selection_policy\":{\"id\":\"1513\"}},\"id\":\"1438\",\"type\":\"ColumnDataSource\"},{\"attributes\":{\"end\":10.1,\"start\":-10.1},\"id\":\"1403\",\"type\":\"Range1d\"},{\"attributes\":{},\"id\":\"1509\",\"type\":\"BasicTickFormatter\"},{\"attributes\":{},\"id\":\"1414\",\"type\":\"BasicTicker\"},{\"attributes\":{},\"id\":\"1510\",\"type\":\"AllLabels\"},{\"attributes\":{\"source\":{\"id\":\"1434\"}},\"id\":\"1436\",\"type\":\"CDSView\"},{\"attributes\":{\"coordinates\":null,\"group\":null,\"text\":\"Game of Thrones Network\"},\"id\":\"1405\",\"type\":\"Title\"},{\"attributes\":{\"coordinates\":null,\"formatter\":{\"id\":\"1506\"},\"group\":null,\"major_label_policy\":{\"id\":\"1507\"},\"ticker\":{\"id\":\"1418\"}},\"id\":\"1417\",\"type\":\"LinearAxis\"},{\"attributes\":{\"axis\":{\"id\":\"1413\"},\"coordinates\":null,\"group\":null,\"ticker\":null},\"id\":\"1416\",\"type\":\"Grid\"},{\"attributes\":{},\"id\":\"1511\",\"type\":\"UnionRenderers\"},{\"attributes\":{\"coordinates\":null,\"data_source\":{\"id\":\"1438\"},\"glyph\":{\"id\":\"1447\"},\"group\":null,\"hover_glyph\":null,\"view\":{\"id\":\"1440\"}},\"id\":\"1439\",\"type\":\"GlyphRenderer\"},{\"attributes\":{\"axis\":{\"id\":\"1417\"},\"coordinates\":null,\"dimension\":1,\"group\":null,\"ticker\":null},\"id\":\"1420\",\"type\":\"Grid\"},{\"attributes\":{},\"id\":\"1512\",\"type\":\"Selection\"},{\"attributes\":{},\"id\":\"1418\",\"type\":\"BasicTicker\"},{\"attributes\":{\"callback\":null,\"tooltips\":[[\"Character\",\"@index\"]]},\"id\":\"1425\",\"type\":\"HoverTool\"},{\"attributes\":{\"fill_color\":{\"value\":\"skyblue\"},\"size\":{\"value\":15}},\"id\":\"1442\",\"type\":\"Circle\"},{\"attributes\":{\"source\":{\"id\":\"1438\"}},\"id\":\"1440\",\"type\":\"CDSView\"},{\"attributes\":{},\"id\":\"1504\",\"type\":\"NodesOnly\"},{\"attributes\":{},\"id\":\"1422\",\"type\":\"WheelZoomTool\"},{\"attributes\":{},\"id\":\"1503\",\"type\":\"NodesOnly\"},{\"attributes\":{},\"id\":\"1421\",\"type\":\"PanTool\"},{\"attributes\":{},\"id\":\"1423\",\"type\":\"SaveTool\"},{\"attributes\":{},\"id\":\"1513\",\"type\":\"UnionRenderers\"},{\"attributes\":{},\"id\":\"1424\",\"type\":\"ResetTool\"},{\"attributes\":{\"line_alpha\":{\"value\":0.5}},\"id\":\"1447\",\"type\":\"MultiLine\"},{\"attributes\":{},\"id\":\"1514\",\"type\":\"Selection\"}],\"root_ids\":[\"1404\"]},\"title\":\"Bokeh Application\",\"version\":\"2.4.2\"}};\n  const render_items = [{\"docid\":\"fd453eea-0527-478b-9603-ccf0a21d03a2\",\"root_ids\":[\"1404\"],\"roots\":{\"1404\":\"c6757db4-968a-401e-bb9a-712952c5d928\"}}];\n  root.Bokeh.embed.embed_items_notebook(docs_json, render_items);\n\n  }\n  if (root.Bokeh !== undefined) {\n    embed_document(root);\n  } else {\n    let attempts = 0;\n    const timer = setInterval(function(root) {\n      if (root.Bokeh !== undefined) {\n        clearInterval(timer);\n        embed_document(root);\n      } else {\n        attempts++;\n        if (attempts > 100) {\n          clearInterval(timer);\n          console.log(\"Bokeh: ERROR: Unable to run BokehJS code because BokehJS library is missing\");\n        }\n      }\n    }, 10, root)\n  }\n})(window);",
      "application/vnd.bokehjs_exec.v0+json": ""
     },
     "metadata": {
      "application/vnd.bokehjs_exec.v0+json": {
       "id": "1404"
      }
     },
     "output_type": "display_data"
    },
    {
     "name": "stderr",
     "output_type": "stream",
     "text": [
      "C:\\Users\\10628\\anaconda3\\envs\\BCLA_site\\lib\\site-packages\\bokeh\\io\\saving.py:142: UserWarning: save() called but no resources were supplied and output_file(...) was never called, defaulting to resources.CDN\n",
      "  warn(\"save() called but no resources were supplied and output_file(...) was never called, defaulting to resources.CDN\")\n",
      "C:\\Users\\10628\\anaconda3\\envs\\BCLA_site\\lib\\site-packages\\bokeh\\io\\saving.py:154: UserWarning: save() called but no title was supplied and output_file(...) was never called, using default title 'Bokeh Plot'\n",
      "  warn(\"save() called but no title was supplied and output_file(...) was never called, using default title 'Bokeh Plot'\")\n"
     ]
    },
    {
     "data": {
      "text/plain": "'D:\\\\dev\\\\BLCA_site\\\\BCLA_site\\\\Game of Thrones Network.html'"
     },
     "execution_count": 24,
     "metadata": {},
     "output_type": "execute_result"
    }
   ],
   "source": [
    "#Choose a title!\n",
    "title = 'Game of Thrones Network'\n",
    "\n",
    "#Establish which categories will appear when hovering over each node\n",
    "HOVER_TOOLTIPS = [(\"Character\", \"@index\")]\n",
    "\n",
    "#Create a plot — set dimensions, toolbar, and title\n",
    "plot = figure(tooltips = HOVER_TOOLTIPS,\n",
    "              tools=\"pan,wheel_zoom,save,reset\", active_scroll='wheel_zoom',\n",
    "            x_range=Range1d(-10.1, 10.1), y_range=Range1d(-10.1, 10.1), title=title)\n",
    "\n",
    "#Create a network graph object with spring layout\n",
    "# https://networkx.github.io/documentation/networkx-1.9/reference/generated/networkx.drawing.layout.spring_layout.html\n",
    "network_graph = from_networkx(G, networkx.spring_layout, scale=10, center=(0, 0))\n",
    "\n",
    "#Set node size and color\n",
    "network_graph.node_renderer.glyph = Circle(size=15, fill_color='skyblue')\n",
    "\n",
    "#Set edge opacity and width\n",
    "network_graph.edge_renderer.glyph = MultiLine(line_alpha=0.5, line_width=1)\n",
    "\n",
    "#Add network graph to the plot\n",
    "plot.renderers.append(network_graph)\n",
    "\n",
    "show(plot)\n",
    "save(plot, filename=f\"{title}.html\")"
   ],
   "metadata": {
    "collapsed": false,
    "pycharm": {
     "name": "#%%\n"
    }
   }
  },
  {
   "cell_type": "code",
   "execution_count": 24,
   "outputs": [],
   "source": [],
   "metadata": {
    "collapsed": false,
    "pycharm": {
     "name": "#%%\n"
    }
   }
  }
 ],
 "metadata": {
  "kernelspec": {
   "display_name": "Python 3",
   "language": "python",
   "name": "python3"
  },
  "language_info": {
   "codemirror_mode": {
    "name": "ipython",
    "version": 2
   },
   "file_extension": ".py",
   "mimetype": "text/x-python",
   "name": "python",
   "nbconvert_exporter": "python",
   "pygments_lexer": "ipython2",
   "version": "2.7.6"
  }
 },
 "nbformat": 4,
 "nbformat_minor": 0
}